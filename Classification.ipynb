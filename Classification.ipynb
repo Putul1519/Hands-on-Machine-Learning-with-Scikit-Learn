{
 "cells": [
  {
   "cell_type": "markdown",
   "id": "209bb997",
   "metadata": {},
   "source": [
    "# Classification"
   ]
  },
  {
   "cell_type": "markdown",
   "id": "c2853644",
   "metadata": {},
   "source": [
    "fetch_openml: to download real datasets\n",
    "load: to download small toy datasets\n",
    "make_: to generate fake datasets"
   ]
  },
  {
   "cell_type": "code",
   "execution_count": 1,
   "id": "d2d09f48",
   "metadata": {},
   "outputs": [],
   "source": [
    "from sklearn.datasets import fetch_openml\n",
    "mnist=fetch_openml('mnist_784',as_frame=False)"
   ]
  },
  {
   "cell_type": "code",
   "execution_count": 2,
   "id": "bbe25765",
   "metadata": {},
   "outputs": [],
   "source": [
    "X,y=mnist.data,mnist.target"
   ]
  },
  {
   "cell_type": "code",
   "execution_count": 3,
   "id": "66f0f39d",
   "metadata": {},
   "outputs": [
    {
     "data": {
      "text/plain": [
       "(70000, 784)"
      ]
     },
     "execution_count": 3,
     "metadata": {},
     "output_type": "execute_result"
    }
   ],
   "source": [
    "X.shape  ## 70000 image and each has 784 features(28*28 pixels)"
   ]
  },
  {
   "cell_type": "code",
   "execution_count": 4,
   "id": "077242c0",
   "metadata": {},
   "outputs": [
    {
     "data": {
      "text/plain": [
       "(70000,)"
      ]
     },
     "execution_count": 4,
     "metadata": {},
     "output_type": "execute_result"
    }
   ],
   "source": [
    "y.shape"
   ]
  },
  {
   "cell_type": "code",
   "execution_count": 5,
   "id": "84284595",
   "metadata": {},
   "outputs": [
    {
     "data": {
      "image/png": "[encoded data removed]",
      "text/plain": [
       "<Figure size 432x288 with 1 Axes>"
      ]
     },
     "metadata": {
      "needs_background": "light"
     },
     "output_type": "display_data"
    }
   ],
   "source": [
    "import matplotlib.pyplot as plt\n",
    "def plot_digit(image_data):\n",
    "    image=image_data.reshape(28,28)\n",
    "    plt.imshow(image,cmap='binary')\n",
    "    plt.axis='off'\n",
    "    \n",
    "some_digit=X[0]\n",
    "plot_digit(some_digit)\n",
    "plt.show()"
   ]
  },
  {
   "cell_type": "code",
   "execution_count": 6,
   "id": "3a04e3a5",
   "metadata": {},
   "outputs": [
    {
     "data": {
      "text/plain": [
       "'5'"
      ]
     },
     "execution_count": 6,
     "metadata": {},
     "output_type": "execute_result"
    }
   ],
   "source": [
    "y[0]"
   ]
  },
  {
   "cell_type": "code",
   "execution_count": 7,
   "id": "abea56db",
   "metadata": {},
   "outputs": [],
   "source": [
    "X_train,X_test,y_train,y_test=X[:60000],X[60000:],y[:60000],y[60000:]"
   ]
  },
  {
   "cell_type": "markdown",
   "id": "649fdbfa",
   "metadata": {},
   "source": [
    "### Training a Binary Classifier"
   ]
  },
  {
   "cell_type": "markdown",
   "id": "8e4cf979",
   "metadata": {},
   "source": [
    "##### '5-Detector'"
   ]
  },
  {
   "cell_type": "code",
   "execution_count": 8,
   "id": "a24a0138",
   "metadata": {},
   "outputs": [],
   "source": [
    "y_train_5=(y_train=='5')\n",
    "y_test_5=(y_test=='5')"
   ]
  },
  {
   "cell_type": "markdown",
   "id": "07022c26",
   "metadata": {},
   "source": [
    "#### SGD Classifier\n",
    "This classifier is capable of handling very large datasets efficiently.\n",
    "SGD deals with training instances independently, one at a time,which makes it well suited for online learning\n"
   ]
  },
  {
   "cell_type": "code",
   "execution_count": 9,
   "id": "99465eec",
   "metadata": {},
   "outputs": [
    {
     "data": {
      "text/plain": [
       "SGDClassifier(random_state=42)"
      ]
     },
     "execution_count": 9,
     "metadata": {},
     "output_type": "execute_result"
    }
   ],
   "source": [
    "from sklearn.linear_model import SGDClassifier\n",
    "sgd_clf=SGDClassifier(random_state=42)\n",
    "sgd_clf.fit(X_train,y_train_5)"
   ]
  },
  {
   "cell_type": "code",
   "execution_count": 10,
   "id": "31ea2779",
   "metadata": {},
   "outputs": [
    {
     "data": {
      "text/plain": [
       "array([ True])"
      ]
     },
     "execution_count": 10,
     "metadata": {},
     "output_type": "execute_result"
    }
   ],
   "source": [
    "sgd_clf.predict([some_digit])"
   ]
  },
  {
   "cell_type": "markdown",
   "id": "f7d573a4",
   "metadata": {},
   "source": [
    "### Performance Measure"
   ]
  },
  {
   "cell_type": "markdown",
   "id": "ed7e55df",
   "metadata": {},
   "source": [
    "### Accuracy "
   ]
  },
  {
   "cell_type": "code",
   "execution_count": 11,
   "id": "df8bfb0c",
   "metadata": {},
   "outputs": [
    {
     "data": {
      "text/plain": [
       "array([0.95035, 0.96035, 0.9604 ])"
      ]
     },
     "execution_count": 11,
     "metadata": {},
     "output_type": "execute_result"
    }
   ],
   "source": [
    "# measuring accuracy using cross validation\n",
    "\n",
    "from sklearn.model_selection import cross_val_score\n",
    "cross_val_score(sgd_clf,X_train,y_train_5,cv=3,scoring=\"accuracy\")"
   ]
  },
  {
   "cell_type": "markdown",
   "id": "2640b291",
   "metadata": {},
   "source": [
    "To compare the accuracy, lets use dummy classifier that just classify every single image to most frequent\n",
    "class i.e (in this case non_5)"
   ]
  },
  {
   "cell_type": "code",
   "execution_count": 12,
   "id": "47a82c96",
   "metadata": {},
   "outputs": [
    {
     "name": "stdout",
     "output_type": "stream",
     "text": [
      "False\n"
     ]
    }
   ],
   "source": [
    "from sklearn.dummy import DummyClassifier\n",
    "dummy_clf=DummyClassifier()\n",
    "dummy_clf.fit(X_train,y_train_5)\n",
    "print(any(dummy_clf.predict(X_train)))"
   ]
  },
  {
   "cell_type": "code",
   "execution_count": 13,
   "id": "cc395844",
   "metadata": {},
   "outputs": [
    {
     "data": {
      "text/plain": [
       "array([0.90965, 0.90965, 0.90965])"
      ]
     },
     "execution_count": 13,
     "metadata": {},
     "output_type": "execute_result"
    }
   ],
   "source": [
    "cross_val_score(dummy_clf,X_train,y_train_5,cv=3,scoring='accuracy')"
   ]
  },
  {
   "cell_type": "markdown",
   "id": "54bbf54d",
   "metadata": {},
   "source": [
    "Class Imbalance: In many real-world classification problems, the distribution of classes is imbalanced, meaning some classes have significantly more instances than others. In such cases, a high accuracy score can be misleading. A classifier may achieve high accuracy by simply predicting the majority class most of the time, while performing poorly on the minority class. This is especially problematic when the minority class is the one of interest (e.g., detecting fraud, rare diseases) as the classifier's true effectiveness is not adequately captured."
   ]
  },
  {
   "cell_type": "markdown",
   "id": "aea263d5",
   "metadata": {},
   "source": [
    "### Confusion Matrics\n",
    "\n",
    "Confusion matrix is to count the number of times class A are misclassified as class B, for all A/B pairs. Each row in the confusion matric represents actual class and each column represents the predicted class. \n",
    "\n",
    "FP: type I error\n",
    "FN: type II error"
   ]
  },
  {
   "cell_type": "code",
   "execution_count": 14,
   "id": "804bc513",
   "metadata": {},
   "outputs": [],
   "source": [
    "from sklearn.model_selection import cross_val_predict\n",
    "y_train_predict=cross_val_predict(sgd_clf,X_train,y_train_5,cv=3)"
   ]
  },
  {
   "cell_type": "code",
   "execution_count": 15,
   "id": "52196d63",
   "metadata": {},
   "outputs": [
    {
     "data": {
      "text/plain": [
       "array([[53892,   687],\n",
       "       [ 1891,  3530]], dtype=int64)"
      ]
     },
     "execution_count": 15,
     "metadata": {},
     "output_type": "execute_result"
    }
   ],
   "source": [
    "from sklearn.metrics import confusion_matrix\n",
    "cm=confusion_matrix(y_train_5,y_train_predict)\n",
    "cm"
   ]
  },
  {
   "cell_type": "markdown",
   "id": "7721c7ab",
   "metadata": {},
   "source": [
    "A perfect classifier would have only TP and TN, so its confusion matrix would have non zero values only on its main diagonal. "
   ]
  },
  {
   "cell_type": "code",
   "execution_count": 16,
   "id": "02e6ee76",
   "metadata": {},
   "outputs": [
    {
     "data": {
      "text/plain": [
       "array([[54579,     0],\n",
       "       [    0,  5421]], dtype=int64)"
      ]
     },
     "execution_count": 16,
     "metadata": {},
     "output_type": "execute_result"
    }
   ],
   "source": [
    "y_train_predict=y_train_5\n",
    "cm=confusion_matrix(y_train_5,y_train_predict)\n",
    "cm"
   ]
  },
  {
   "cell_type": "markdown",
   "id": "11563932",
   "metadata": {},
   "source": [
    "##### Precision and Recall"
   ]
  },
  {
   "cell_type": "markdown",
   "id": "04d9d9c8",
   "metadata": {},
   "source": [
    "Accuracy of positive prediction: Precision\n",
    "precision=TP/(TP+FP)\n",
    "\n",
    "A trivial way to have perfect precision is to create a classifier that makes 99 negative prediction and 1 positive prediction\n",
    "if this prediction is correct then the classifier is 100% accuracy. SUch classifier is not be very useful. So precision is typically used with one more metric called recall(sensitivity) or True Positve Rate(TPR)\n",
    "\n",
    "Recall=TP/(TP+FN)"
   ]
  },
  {
   "cell_type": "code",
   "execution_count": 17,
   "id": "0c77b6aa",
   "metadata": {},
   "outputs": [
    {
     "data": {
      "text/plain": [
       "(1.0, 1.0)"
      ]
     },
     "execution_count": 17,
     "metadata": {},
     "output_type": "execute_result"
    }
   ],
   "source": [
    "from sklearn.metrics import precision_score,recall_score\n",
    "\n",
    "ps=precision_score(y_train_5,y_train_predict)\n",
    "rs=recall_score(y_train_5,y_train_predict)\n",
    "ps,rs"
   ]
  },
  {
   "cell_type": "markdown",
   "id": "6bdf87e4",
   "metadata": {},
   "source": [
    "When it claims that an image represents a 5, it is correct only 83.7% of the time. Moreover, it only detects 65.1% of the 5s."
   ]
  },
  {
   "cell_type": "markdown",
   "id": "b57d3449",
   "metadata": {},
   "source": [
    "#### F1 Score\n",
    "F1 score: Harmonic mean of precision and recall,  whereas regular mean treats all values equally, the harmonic mean gives much more weight to low values. As a result, tha classifier will only get high F1 score if both recall and precision is high.\n"
   ]
  },
  {
   "cell_type": "code",
   "execution_count": 18,
   "id": "45dedec4",
   "metadata": {},
   "outputs": [
    {
     "data": {
      "text/plain": [
       "1.0"
      ]
     },
     "execution_count": 18,
     "metadata": {},
     "output_type": "execute_result"
    }
   ],
   "source": [
    "from sklearn.metrics import f1_score\n",
    "f1_score(y_train_5,y_train_predict)"
   ]
  },
  {
   "cell_type": "markdown",
   "id": "c38b0544",
   "metadata": {},
   "source": [
    "#### Precision Recall Trade-off\n",
    "\n",
    "Increasing precision reduces recall and vice versa. this is called precision recall trade off"
   ]
  },
  {
   "cell_type": "code",
   "execution_count": 19,
   "id": "359089fd",
   "metadata": {},
   "outputs": [
    {
     "data": {
      "text/plain": [
       "array([2164.22030239])"
      ]
     },
     "execution_count": 19,
     "metadata": {},
     "output_type": "execute_result"
    }
   ],
   "source": [
    "# setting threshold\n",
    "y_score=sgd_clf.decision_function([some_digit]) # return decision scores that it uses to make prediction\n",
    "y_score\n",
    "# The decision score represents how confident the classifier is that the instance belongs to the\n",
    "# positive class (class 1 in binary classification) versus the negative class (class 0)."
   ]
  },
  {
   "cell_type": "code",
   "execution_count": 20,
   "id": "b9213c58",
   "metadata": {},
   "outputs": [
    {
     "data": {
      "text/plain": [
       "array([ True])"
      ]
     },
     "execution_count": 20,
     "metadata": {},
     "output_type": "execute_result"
    }
   ],
   "source": [
    "threshold=0\n",
    "y_some_digit_pred=(y_score>threshold)\n",
    "y_some_digit_pred"
   ]
  },
  {
   "cell_type": "markdown",
   "id": "1cee7aab",
   "metadata": {},
   "source": [
    "This is because when you raise the threshold, the classifier becomes more conservative in making positive predictions, leading to fewer instances being classified as positive. As a result, true positives \n",
    "may decrease (leading to lower recall), but false positives may also decrease (leading to higher precision).\n",
    "\n",
    "The relationship between precision and recall is usually inversely proportional, meaning that as you increase one, the other typically decreases. A higher threshold tends to increase precision and reduce recall, while a lower threshold increases recall and reduces precision.\n",
    "\n",
    "High Threshold (Conservative classifier):\n",
    "\n",
    "Fewer instances are classified as positive.\n",
    "Higher precision (fewer false positives).\n",
    "Lower recall (more false negatives).\n",
    "Low Threshold (Generous classifier):\n",
    "\n",
    "More instances are classified as positive.\n",
    "Lower precision (more false positives).\n",
    "Higher recall (fewer false negatives).\n",
    "Choosing the right threshold is essential and depends on the specific problem's requirements and constraints. For example:\n",
    "\n",
    "If the cost of false positives is high (e.g., misclassifying a legitimate transaction as fraud), you might want to use a high threshold to ensure high precision.\n",
    "If the cost of false negatives is high (e.g., missing a critical medical diagnosis), you might prefer a low threshold to achieve high recall."
   ]
  },
  {
   "cell_type": "code",
   "execution_count": 21,
   "id": "695eac1c",
   "metadata": {},
   "outputs": [
    {
     "data": {
      "text/plain": [
       "array([False])"
      ]
     },
     "execution_count": 21,
     "metadata": {},
     "output_type": "execute_result"
    }
   ],
   "source": [
    "threshold=3000\n",
    "y_some_digit_pred=(y_score>threshold) # increasing threshold decreases recall\n",
    "y_some_digit_pred"
   ]
  },
  {
   "cell_type": "code",
   "execution_count": 22,
   "id": "6edfa6d6",
   "metadata": {},
   "outputs": [
    {
     "data": {
      "text/plain": [
       "array([  1200.93051237, -26883.79202424, -33072.03475406, ...,\n",
       "        13272.12718981,  -7258.47203373, -16877.50840447])"
      ]
     },
     "execution_count": 22,
     "metadata": {},
     "output_type": "execute_result"
    }
   ],
   "source": [
    "# how do we decide which threshold value to take\n",
    "y_scores=cross_val_predict(sgd_clf,X_train,y_train_5,cv=3,method=\"decision_function\")\n",
    "y_scores"
   ]
  },
  {
   "cell_type": "code",
   "execution_count": 23,
   "id": "126f1d3c",
   "metadata": {},
   "outputs": [
    {
     "data": {
      "text/plain": [
       "(60000,)"
      ]
     },
     "execution_count": 23,
     "metadata": {},
     "output_type": "execute_result"
    }
   ],
   "source": [
    "y_scores.shape"
   ]
  },
  {
   "cell_type": "code",
   "execution_count": 24,
   "id": "f720972e",
   "metadata": {},
   "outputs": [],
   "source": [
    "from sklearn.metrics import precision_recall_curve\n",
    "precisions,recalls,thresholds=precision_recall_curve(y_train_5,y_scores)"
   ]
  },
  {
   "cell_type": "markdown",
   "id": "2e4adbb2",
   "metadata": {},
   "source": [
    "Sorting:\n",
    "The precision_recall_curve function first sorts the decision scores in descending order. Sorting is necessary to ensure that the thresholds are in increasing order, as precision and recall values need to be calculated for all possible thresholds.\n",
    "\n",
    "Threshold Calculation:\n",
    "The function then iterates through the sorted decision scores and treats each unique value as a threshold. For example, if there are N unique decision scores, there will be N-1 threshold points, as thresholds are calculated between consecutive unique scores.\n",
    "\n",
    "Precision and Recall Calculation:\n",
    "For each threshold, the function calculates the corresponding precision and recall values based on the predicted positive class labels using that threshold.\n",
    "Precision is calculated as the ratio of true positives to the total number of instances predicted as positive (true positives + false positives).\n",
    "Recall is calculated as the ratio of true positives to the total number of actual positive instances (true positives + false negatives)."
   ]
  },
  {
   "cell_type": "code",
   "execution_count": 25,
   "id": "10ebb3cf",
   "metadata": {},
   "outputs": [
    {
     "data": {
      "image/png": "[encoded data removed]",
      "text/plain": [
       "<Figure size 432x288 with 1 Axes>"
      ]
     },
     "metadata": {
      "needs_background": "light"
     },
     "output_type": "display_data"
    }
   ],
   "source": [
    "plt.plot(thresholds,precisions[:-1],\"b--\",label=\"Precision\",linewidth=2)\n",
    "plt.plot(thresholds,recalls[:-1],\"g-\",label=\"Recall\",linewidth=2)\n",
    "plt.vlines(threshold,0,1.0,\"k\",\"dotted\",label=\"threshold\")\n",
    "plt.grid(True)\n",
    "plt.xlabel(\"Threshold\")\n",
    "plt.legend(loc=\"center right\")\n",
    "plt.show()"
   ]
  },
  {
   "cell_type": "code",
   "execution_count": 26,
   "id": "a2c00afc",
   "metadata": {},
   "outputs": [
    {
     "data": {
      "image/png": "[encoded data removed]",
      "text/plain": [
       "<Figure size 432x288 with 1 Axes>"
      ]
     },
     "metadata": {
      "needs_background": "light"
     },
     "output_type": "display_data"
    }
   ],
   "source": [
    "# Another way\n",
    "plt.plot(recalls,precisions,linewidth=2,label=\"Precision/Recall Curve\")\n",
    "plt.grid(True)\n",
    "plt.xlabel(\"Recall\")\n",
    "plt.ylabel(\"Precision\")\n",
    "plt.show()"
   ]
  },
  {
   "cell_type": "markdown",
   "id": "8569d173",
   "metadata": {},
   "source": [
    "Select precision and recall according to your project requirements"
   ]
  },
  {
   "cell_type": "code",
   "execution_count": 27,
   "id": "ea0b299b",
   "metadata": {},
   "outputs": [
    {
     "data": {
      "text/plain": [
       "(57075, 3370.0194991439557)"
      ]
     },
     "execution_count": 27,
     "metadata": {},
     "output_type": "execute_result"
    }
   ],
   "source": [
    "# searching the lowest threshold for precision=90%\n",
    "idx_for_90_precision=(precisions>=0.90).argmax()\n",
    "threshold_for_90_precision=thresholds[idx_for_90_precision]\n",
    "idx_for_90_precision,threshold_for_90_precision"
   ]
  },
  {
   "cell_type": "code",
   "execution_count": 28,
   "id": "ee00c91f",
   "metadata": {},
   "outputs": [],
   "source": [
    "y_train_pred_90=(y_scores>=threshold_for_90_precision)"
   ]
  },
  {
   "cell_type": "code",
   "execution_count": 29,
   "id": "bfa834ce",
   "metadata": {},
   "outputs": [
    {
     "data": {
      "text/plain": [
       "0.9000345901072293"
      ]
     },
     "execution_count": 29,
     "metadata": {},
     "output_type": "execute_result"
    }
   ],
   "source": [
    "precision_score(y_train_5,y_train_pred_90)"
   ]
  },
  {
   "cell_type": "code",
   "execution_count": 30,
   "id": "ea5a8fed",
   "metadata": {},
   "outputs": [
    {
     "data": {
      "text/plain": [
       "0.4799852425751706"
      ]
     },
     "execution_count": 30,
     "metadata": {},
     "output_type": "execute_result"
    }
   ],
   "source": [
    "recall_at_90_precision=recall_score(y_train_5,y_train_pred_90)\n",
    "recall_at_90_precision  ## If someone says you should find 99% precision you should ask at what % recall"
   ]
  },
  {
   "cell_type": "markdown",
   "id": "18311c29",
   "metadata": {},
   "source": [
    "### ROC Curve\n",
    "\n",
    "Receiver Operating Characteristic Curve plots the true positive rate(recall) against the false positive rate(fall-out/1-True Negative Rate/1-specificity)."
   ]
  },
  {
   "cell_type": "code",
   "execution_count": 31,
   "id": "c2f25ebc",
   "metadata": {},
   "outputs": [],
   "source": [
    "from sklearn.metrics import roc_curve\n",
    "fpr,tpr,thresholds=roc_curve(y_train_5,y_scores)"
   ]
  },
  {
   "cell_type": "code",
   "execution_count": 32,
   "id": "4c4ba9be",
   "metadata": {},
   "outputs": [
    {
     "data": {
      "image/png": "[encoded data removed]",
      "text/plain": [
       "<Figure size 432x288 with 1 Axes>"
      ]
     },
     "metadata": {
      "needs_background": "light"
     },
     "output_type": "display_data"
    }
   ],
   "source": [
    "# plot to find the points with 90% precision\n",
    "idx_for_threshold_at_90=(thresholds<=threshold_for_90_precision).argmax()\n",
    "tpr_90,fpr_90=tpr[idx_for_threshold_at_90],fpr[idx_for_threshold_at_90]\n",
    "\n",
    "plt.plot(fpr,tpr,linewidth=2,label=\"ROC_CURVE\")\n",
    "plt.plot([0,1],[0,1],'k:',label=\"Random Classifier's ROC Curve\")\n",
    "plt.plot([fpr_90],[tpr_90],\"ko\",label=\"Threshold for 90% precision\") #90% threshold point\n",
    "plt.grid(True)\n",
    "plt.xlabel(\"False Positive Rate\")\n",
    "plt.ylabel(\"True Positive Rate\")\n",
    "plt.legend(loc=\"lower right\")\n",
    "plt.show()\n",
    "\n",
    "## A good classifier stays as far away from Random Classifier's ROC Curve"
   ]
  },
  {
   "cell_type": "markdown",
   "id": "7cc24ac0",
   "metadata": {},
   "source": [
    "#### Area under ROC curve- AUC\n",
    "perfect classifier: 1\n",
    "random classifier: 0.5"
   ]
  },
  {
   "cell_type": "code",
   "execution_count": 33,
   "id": "117d2e56",
   "metadata": {},
   "outputs": [
    {
     "data": {
      "text/plain": [
       "0.9604938554008616"
      ]
     },
     "execution_count": 33,
     "metadata": {},
     "output_type": "execute_result"
    }
   ],
   "source": [
    "from sklearn.metrics import roc_auc_score\n",
    "roc_auc_score(y_train_5,y_scores)"
   ]
  },
  {
   "cell_type": "markdown",
   "id": "d71f8496",
   "metadata": {},
   "source": [
    "### Random Forest Classifier"
   ]
  },
  {
   "cell_type": "code",
   "execution_count": 34,
   "id": "93755eb7",
   "metadata": {},
   "outputs": [],
   "source": [
    "from sklearn.ensemble import RandomForestClassifier\n",
    "forest_clf=RandomForestClassifier(random_state=42)\n",
    "y_probas_forest=cross_val_predict(forest_clf,X_train,y_train_5,cv=3,method=\"predict_proba\")"
   ]
  },
  {
   "cell_type": "code",
   "execution_count": 35,
   "id": "2f6cd03a",
   "metadata": {},
   "outputs": [
    {
     "data": {
      "text/plain": [
       "array([[0.11, 0.89],\n",
       "       [0.99, 0.01]])"
      ]
     },
     "execution_count": 35,
     "metadata": {},
     "output_type": "execute_result"
    }
   ],
   "source": [
    "y_probas_forest[:2]"
   ]
  },
  {
   "cell_type": "code",
   "execution_count": 36,
   "id": "6f468e4e",
   "metadata": {},
   "outputs": [],
   "source": [
    "y_scores_forest=y_probas_forest[:,1]\n",
    "precisions_forest,recalls_forest,thresholds_forest=precision_recall_curve(y_train_5,y_scores_forest)"
   ]
  },
  {
   "cell_type": "code",
   "execution_count": 37,
   "id": "f2f13a11",
   "metadata": {},
   "outputs": [
    {
     "data": {
      "image/png": "[encoded data removed]",
      "text/plain": [
       "<Figure size 432x288 with 1 Axes>"
      ]
     },
     "metadata": {
      "needs_background": "light"
     },
     "output_type": "display_data"
    }
   ],
   "source": [
    "plt.plot(recalls_forest,precisions_forest,\"b-\",linewidth=2,label=\"Random Forest\")\n",
    "plt.plot(recalls,precisions,\"--\",linewidth=2,label=\"SGD\")\n",
    "plt.grid(True)\n",
    "plt.xlabel(\"Recall\")\n",
    "plt.ylabel(\"Precision\")\n",
    "plt.legend(loc=\"lower left\")\n",
    "plt.show()"
   ]
  },
  {
   "cell_type": "code",
   "execution_count": 38,
   "id": "c74a785b",
   "metadata": {},
   "outputs": [
    {
     "data": {
      "text/plain": [
       "0.9274509803921569"
      ]
     },
     "execution_count": 38,
     "metadata": {},
     "output_type": "execute_result"
    }
   ],
   "source": [
    "y_train_pred_forest=y_probas_forest[:,1]>=0.5\n",
    "f1_score(y_train_5,y_train_pred_forest)"
   ]
  },
  {
   "cell_type": "code",
   "execution_count": 39,
   "id": "6a9d8450",
   "metadata": {},
   "outputs": [
    {
     "data": {
      "text/plain": [
       "0.9983436731328145"
      ]
     },
     "execution_count": 39,
     "metadata": {},
     "output_type": "execute_result"
    }
   ],
   "source": [
    "roc_auc_score(y_train_5,y_scores_forest)"
   ]
  },
  {
   "cell_type": "code",
   "execution_count": 40,
   "id": "d7caac9d",
   "metadata": {},
   "outputs": [
    {
     "data": {
      "text/plain": [
       "0.8725327430363402"
      ]
     },
     "execution_count": 40,
     "metadata": {},
     "output_type": "execute_result"
    }
   ],
   "source": [
    "recall_score(y_train_5,y_train_pred_forest)"
   ]
  },
  {
   "cell_type": "code",
   "execution_count": 41,
   "id": "8e6a42e9",
   "metadata": {},
   "outputs": [
    {
     "data": {
      "text/plain": [
       "0.9897468089558485"
      ]
     },
     "execution_count": 41,
     "metadata": {},
     "output_type": "execute_result"
    }
   ],
   "source": [
    "precision_score(y_train_5,y_train_pred_forest)"
   ]
  },
  {
   "cell_type": "markdown",
   "id": "cc45f76e",
   "metadata": {},
   "source": [
    "# Multiclass Classification\n",
    "\n",
    "Logistic Regression, RandomForestClassifier, GaussianNB -> Multiclass Classifier\n",
    "SGD Classifier, SVC -> Binary Classifier\n",
    "\n",
    "One Vs All: train 10 binary classifier one for each. eg. 0-detector,1-detector...etc \n",
    "One Vs One: train a binary classifier for every pair of digit. total-n(n-1)/2;"
   ]
  },
  {
   "cell_type": "markdown",
   "id": "6f2c387c",
   "metadata": {},
   "source": [
    "### SVM"
   ]
  },
  {
   "cell_type": "code",
   "execution_count": 44,
   "id": "1d096a7b",
   "metadata": {},
   "outputs": [
    {
     "data": {
      "text/plain": [
       "array(['5'], dtype=object)"
      ]
     },
     "execution_count": 44,
     "metadata": {},
     "output_type": "execute_result"
    }
   ],
   "source": [
    "from sklearn.svm import SVC\n",
    "svm_clf=SVC(random_state=42)\n",
    "svm_clf.fit(X_train[:2000],y_train[:2000])\n",
    "svm_clf.predict([some_digit])"
   ]
  },
  {
   "cell_type": "code",
   "execution_count": 45,
   "id": "047945eb",
   "metadata": {},
   "outputs": [
    {
     "data": {
      "text/plain": [
       "array([[ 3.79,  0.73,  6.06,  8.3 , -0.29,  9.3 ,  1.75,  2.77,  7.21,\n",
       "         4.82]])"
      ]
     },
     "execution_count": 45,
     "metadata": {},
     "output_type": "execute_result"
    }
   ],
   "source": [
    "some_digit_scores=svm_clf.decision_function([some_digit])\n",
    "some_digit_scores.round(2) # highest is 9.3 w.r.t. to 5"
   ]
  },
  {
   "cell_type": "code",
   "execution_count": 46,
   "id": "d0961daa",
   "metadata": {},
   "outputs": [
    {
     "data": {
      "text/plain": [
       "5"
      ]
     },
     "execution_count": 46,
     "metadata": {},
     "output_type": "execute_result"
    }
   ],
   "source": [
    "class_id=some_digit_scores.argmax()\n",
    "class_id"
   ]
  },
  {
   "cell_type": "code",
   "execution_count": 47,
   "id": "33b26111",
   "metadata": {},
   "outputs": [
    {
     "data": {
      "text/plain": [
       "array(['0', '1', '2', '3', '4', '5', '6', '7', '8', '9'], dtype=object)"
      ]
     },
     "execution_count": 47,
     "metadata": {},
     "output_type": "execute_result"
    }
   ],
   "source": [
    "svm_clf.classes_"
   ]
  },
  {
   "cell_type": "code",
   "execution_count": 48,
   "id": "5c1a6989",
   "metadata": {},
   "outputs": [
    {
     "data": {
      "text/plain": [
       "'5'"
      ]
     },
     "execution_count": 48,
     "metadata": {},
     "output_type": "execute_result"
    }
   ],
   "source": [
    "svm_clf.classes_[class_id]"
   ]
  },
  {
   "cell_type": "code",
   "execution_count": 50,
   "id": "eeb17d5d",
   "metadata": {},
   "outputs": [
    {
     "data": {
      "text/plain": [
       "array(['5'], dtype='<U1')"
      ]
     },
     "execution_count": 50,
     "metadata": {},
     "output_type": "execute_result"
    }
   ],
   "source": [
    "from sklearn.multiclass import OneVsRestClassifier\n",
    "ovr_clf=OneVsRestClassifier(SVC(random_state=42))\n",
    "ovr_clf.fit(X_train[:2000],y_train[:2000])\n",
    "ovr_clf.predict([some_digit])"
   ]
  },
  {
   "cell_type": "code",
   "execution_count": 52,
   "id": "c37062e3",
   "metadata": {},
   "outputs": [
    {
     "data": {
      "text/plain": [
       "10"
      ]
     },
     "execution_count": 52,
     "metadata": {},
     "output_type": "execute_result"
    }
   ],
   "source": [
    "len(ovr_clf.estimators_)"
   ]
  },
  {
   "cell_type": "markdown",
   "id": "6bc12fe0",
   "metadata": {},
   "source": [
    "### SGD"
   ]
  },
  {
   "cell_type": "code",
   "execution_count": 54,
   "id": "b861f27a",
   "metadata": {},
   "outputs": [
    {
     "data": {
      "text/plain": [
       "array(['3'], dtype='<U1')"
      ]
     },
     "execution_count": 54,
     "metadata": {},
     "output_type": "execute_result"
    }
   ],
   "source": [
    "sgd_clf=SGDClassifier(random_state=42)\n",
    "sgd_clf.fit(X_train,y_train)\n",
    "sgd_clf.predict([some_digit]) # incorrect prediction"
   ]
  },
  {
   "cell_type": "code",
   "execution_count": 55,
   "id": "e12dc24f",
   "metadata": {},
   "outputs": [
    {
     "data": {
      "text/plain": [
       "array([[-31893.03, -34419.69,  -9530.64,   1823.73, -22320.15,  -1385.8 ,\n",
       "        -26188.91, -16147.51,  -4604.35, -12050.77]])"
      ]
     },
     "execution_count": 55,
     "metadata": {},
     "output_type": "execute_result"
    }
   ],
   "source": [
    "some_digit_scores=sgd_clf.decision_function([some_digit])\n",
    "some_digit_scores.round(2)"
   ]
  },
  {
   "cell_type": "code",
   "execution_count": 56,
   "id": "d614988c",
   "metadata": {},
   "outputs": [
    {
     "data": {
      "text/plain": [
       "array([0.87365, 0.85835, 0.8689 ])"
      ]
     },
     "execution_count": 56,
     "metadata": {},
     "output_type": "execute_result"
    }
   ],
   "source": [
    "cross_val_score(sgd_clf,X_train,y_train,cv=3,scoring=\"accuracy\")"
   ]
  },
  {
   "cell_type": "code",
   "execution_count": 57,
   "id": "599a192f",
   "metadata": {},
   "outputs": [
    {
     "data": {
      "text/plain": [
       "array([0.8983, 0.891 , 0.9018])"
      ]
     },
     "execution_count": 57,
     "metadata": {},
     "output_type": "execute_result"
    }
   ],
   "source": [
    "from sklearn.preprocessing import StandardScaler\n",
    "scaler=StandardScaler()\n",
    "X_train_scaled=scaler.fit_transform(X_train.astype(\"float64\"))\n",
    "cross_val_score(sgd_clf,X_train_scaled,y_train,cv=3,scoring=\"accuracy\")"
   ]
  },
  {
   "cell_type": "markdown",
   "id": "36f07eda",
   "metadata": {},
   "source": [
    "### Error Analysis"
   ]
  },
  {
   "cell_type": "markdown",
   "id": "3646981e",
   "metadata": {},
   "source": [
    "#### Confusion Matrix"
   ]
  },
  {
   "cell_type": "code",
   "execution_count": 58,
   "id": "d5b3be42",
   "metadata": {},
   "outputs": [
    {
     "data": {
      "image/png": "[encoded data removed]",
      "text/plain": [
       "<Figure size 432x288 with 2 Axes>"
      ]
     },
     "metadata": {
      "needs_background": "light"
     },
     "output_type": "display_data"
    }
   ],
   "source": [
    "from sklearn.metrics import ConfusionMatrixDisplay\n",
    "y_train_pred=cross_val_predict(sgd_clf,X_train_scaled,y_train,cv=3)\n",
    "ConfusionMatrixDisplay.from_predictions(y_train,y_train_pred)\n",
    "plt.show()"
   ]
  },
  {
   "cell_type": "markdown",
   "id": "fdcab53c",
   "metadata": {},
   "source": [
    "Notice that the cell on the diagonal in row #5, col #5 looks darker than the other digits. This could be because the model made more errors on 5s, or there are fewer 5s in the dataset than the other digits. That's why it is important to normalize the confusion matrix by dividing each value by total no of images in the corresponding class "
   ]
  },
  {
   "cell_type": "code",
   "execution_count": 61,
   "id": "44d88d4f",
   "metadata": {},
   "outputs": [
    {
     "data": {
      "image/png": "[encoded data removed]",
      "text/plain": [
       "<Figure size 432x288 with 2 Axes>"
      ]
     },
     "metadata": {
      "needs_background": "light"
     },
     "output_type": "display_data"
    }
   ],
   "source": [
    "## Normalized CM\n",
    "ConfusionMatrixDisplay.from_predictions(y_train,y_train_pred,normalize=\"true\",values_format=\".0%\")\n",
    "plt.show()"
   ]
  },
  {
   "cell_type": "markdown",
   "id": "d83e8ae8",
   "metadata": {},
   "source": [
    "Now we can easily see that only 82% of the images of 5s were classified correctly. The most common error the model made with images of 5s was to misclassify them as 8s: This happened for 10% of all 5s. But only 2% of 8s got misclassified as 5s."
   ]
  },
  {
   "cell_type": "code",
   "execution_count": 62,
   "id": "13b38a95",
   "metadata": {},
   "outputs": [
    {
     "data": {
      "image/png": "[encoded data removed]",
      "text/plain": [
       "<Figure size 432x288 with 2 Axes>"
      ]
     },
     "metadata": {
      "needs_background": "light"
     },
     "output_type": "display_data"
    }
   ],
   "source": [
    "# if you look closly you will notice that many digit are misclassified as 8. \n",
    "sample_weight=(y_train_pred!=y_train)\n",
    "ConfusionMatrixDisplay.from_predictions(y_train,y_train_pred,sample_weight=sample_weight,normalize=\"true\",values_format=\".0%\")\n",
    "plt.show()\n",
    "\n",
    "# Now you can see the col 8 is brighter which confirms that many images got misclassified as 8. row #7 and col #9 =36% does not\n",
    "# mean that 36% of images of 7 misclassified as 9. It means that 36% of errors the model made on image of 7s were misclassification \n",
    "# as 9s."
   ]
  },
  {
   "cell_type": "markdown",
   "id": "3cf984ea",
   "metadata": {},
   "source": [
    "# Multilabel Classification"
   ]
  },
  {
   "cell_type": "code",
   "execution_count": 63,
   "id": "d6f9bdc0",
   "metadata": {},
   "outputs": [
    {
     "data": {
      "text/plain": [
       "KNeighborsClassifier()"
      ]
     },
     "execution_count": 63,
     "metadata": {},
     "output_type": "execute_result"
    }
   ],
   "source": [
    "# classify that digit is larger than 7 or not and even or odd\n",
    "import numpy as np\n",
    "from sklearn.neighbors import KNeighborsClassifier\n",
    "\n",
    "y_train_large=(y_train>='7')\n",
    "y_train_odd=(y_train.astype('int8')%2==1)\n",
    "y_multilabel=np.c_[y_train_large,y_train_odd]\n",
    "knn_clf=KNeighborsClassifier()\n",
    "knn_clf.fit(X_train,y_multilabel)"
   ]
  },
  {
   "cell_type": "code",
   "execution_count": 64,
   "id": "04b28b94",
   "metadata": {},
   "outputs": [
    {
     "data": {
      "text/plain": [
       "array([[False,  True]])"
      ]
     },
     "execution_count": 64,
     "metadata": {},
     "output_type": "execute_result"
    }
   ],
   "source": [
    "knn_clf.predict([some_digit])"
   ]
  },
  {
   "cell_type": "code",
   "execution_count": 66,
   "id": "27138325",
   "metadata": {},
   "outputs": [
    {
     "data": {
      "text/plain": [
       "0.976410265560605"
      ]
     },
     "execution_count": 66,
     "metadata": {},
     "output_type": "execute_result"
    }
   ],
   "source": [
    "# evaluation metrics\n",
    "y_train_knn_pred=cross_val_predict(knn_clf,X_train,y_multilabel,cv=3)\n",
    "f1_score(y_multilabel,y_train_knn_pred,average=\"macro\")"
   ]
  },
  {
   "cell_type": "markdown",
   "id": "a36332cc",
   "metadata": {},
   "source": [
    "If you wish to use a classifier that does not natively support multilabel classification, such as SVC, one possible strategy is to train one model per label. However, this strategy may have a hard time capturing the dependencise between the labels. For example, a large digit(7,8,9) is twice more likely to be odd than even, but the classifier for \"odd\" lebel does not know what the classifier for \"large\" label has predicted. To solve this issue, the model can be organised in chain: when a model makes a prediction, it uses the input feature plus all the predictions of the model that come before it in the chain."
   ]
  },
  {
   "cell_type": "code",
   "execution_count": 68,
   "id": "45a5b55d",
   "metadata": {},
   "outputs": [
    {
     "data": {
      "text/plain": [
       "array([[0., 1.]])"
      ]
     },
     "execution_count": 68,
     "metadata": {},
     "output_type": "execute_result"
    }
   ],
   "source": [
    "from sklearn.multioutput import ClassifierChain\n",
    "chain_clf=ClassifierChain(SVC(),cv=3,random_state=42)\n",
    "chain_clf.fit(X_train[:2000],y_multilabel[:2000])\n",
    "chain_clf.predict([some_digit])"
   ]
  },
  {
   "cell_type": "markdown",
   "id": "348b29b7",
   "metadata": {},
   "source": [
    "# Multioutput Classification\n",
    "\n",
    "It is generalization of multilabel classification where each label can be multiclass."
   ]
  },
  {
   "cell_type": "code",
   "execution_count": 71,
   "id": "5aace4b7",
   "metadata": {},
   "outputs": [],
   "source": [
    "## System to remove noise from an image\n",
    "\n",
    "np.random.seed(42)\n",
    "noise=np.random.randint(0,100,(len(X_train),784))\n",
    "X_train_mod=X_train+noise\n",
    "noise=np.random.randint(0,100,(len(X_test),784))\n",
    "X_test_mod=X_test+noise\n",
    "y_train_mod=X_train\n",
    "y_test_mod=X_test"
   ]
  },
  {
   "cell_type": "code",
   "execution_count": 76,
   "id": "a51e10f9",
   "metadata": {},
   "outputs": [
    {
     "data": {
      "image/png": "[encoded data removed]",
      "text/plain": [
       "<Figure size 432x288 with 1 Axes>"
      ]
     },
     "metadata": {
      "needs_background": "light"
     },
     "output_type": "display_data"
    }
   ],
   "source": [
    "plot_digit(X_test_mod[0])\n",
    "plt.show()"
   ]
  },
  {
   "cell_type": "code",
   "execution_count": 77,
   "id": "301b6bc8",
   "metadata": {},
   "outputs": [
    {
     "data": {
      "image/png": "[encoded data removed]",
      "text/plain": [
       "<Figure size 432x288 with 1 Axes>"
      ]
     },
     "metadata": {
      "needs_background": "light"
     },
     "output_type": "display_data"
    }
   ],
   "source": [
    "knn_clf=KNeighborsClassifier()\n",
    "knn_clf.fit(X_train_mod,y_train_mod)\n",
    "clean_digit=knn_clf.predict([X_test_mod[0]])\n",
    "plot_digit(clean_digit)\n",
    "plt.xlabel('clean digit')\n",
    "plt.show()"
   ]
  }
 ],
 "metadata": {
  "kernelspec": {
   "display_name": "Python 3 (ipykernel)",
   "language": "python",
   "name": "python3"
  },
  "language_info": {
   "codemirror_mode": {
    "name": "ipython",
    "version": 3
   },
   "file_extension": ".py",
   "mimetype": "text/x-python",
   "name": "python",
   "nbconvert_exporter": "python",
   "pygments_lexer": "ipython3",
   "version": "3.9.12"
  }
 },
 "nbformat": 4,
 "nbformat_minor": 5
}
