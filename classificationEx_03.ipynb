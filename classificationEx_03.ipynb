{
 "cells": [
  {
   "cell_type": "markdown",
   "id": "96a4413f",
   "metadata": {},
   "source": [
    "# Q1.\n",
    "classifier for mnist dataset that achieves over 97% acccuracy"
   ]
  },
  {
   "cell_type": "code",
   "execution_count": 1,
   "id": "9f31e0a3",
   "metadata": {},
   "outputs": [],
   "source": [
    "from sklearn.datasets import fetch_openml\n",
    "mnist=fetch_openml('mnist_784',as_frame=False) #as_frame= false means numpy array"
   ]
  },
  {
   "cell_type": "code",
   "execution_count": 2,
   "id": "912ad9a1",
   "metadata": {},
   "outputs": [],
   "source": [
    "X,y=mnist.data,mnist.target"
   ]
  },
  {
   "cell_type": "code",
   "execution_count": 3,
   "id": "821a86e3",
   "metadata": {},
   "outputs": [
    {
     "data": {
      "text/plain": [
       "(70000, 784)"
      ]
     },
     "execution_count": 3,
     "metadata": {},
     "output_type": "execute_result"
    }
   ],
   "source": [
    "X.shape"
   ]
  },
  {
   "cell_type": "code",
   "execution_count": 4,
   "id": "1c2a43a9",
   "metadata": {},
   "outputs": [],
   "source": [
    "X_train,X_test,y_train,y_test=X[:60000],X[60000:],y[:60000],y[60000:]"
   ]
  },
  {
   "cell_type": "code",
   "execution_count": 5,
   "id": "0857b394",
   "metadata": {},
   "outputs": [],
   "source": [
    "from sklearn.neighbors import KNeighborsClassifier\n",
    "knn_clf=KNeighborsClassifier()\n",
    "knn_clf.fit(X_train,y_train)\n",
    "y_pred=knn_clf.predict(X_train)"
   ]
  },
  {
   "cell_type": "code",
   "execution_count": 6,
   "id": "ef8b4b44",
   "metadata": {},
   "outputs": [
    {
     "data": {
      "text/plain": [
       "0.9819166666666667"
      ]
     },
     "execution_count": 6,
     "metadata": {},
     "output_type": "execute_result"
    }
   ],
   "source": [
    "from sklearn.metrics import accuracy_score\n",
    "accuracy_score(y_train,y_pred) # train score is quite nice"
   ]
  },
  {
   "cell_type": "code",
   "execution_count": 7,
   "id": "79dae050",
   "metadata": {},
   "outputs": [
    {
     "data": {
      "text/plain": [
       "array([0.9676 , 0.9671 , 0.96755])"
      ]
     },
     "execution_count": 7,
     "metadata": {},
     "output_type": "execute_result"
    }
   ],
   "source": [
    "# lets see validation score using cross val score\n",
    "from sklearn.model_selection import cross_val_score\n",
    "cross_val_score(knn_clf,X_train,y_train,cv=3,scoring=\"accuracy\")"
   ]
  },
  {
   "cell_type": "markdown",
   "id": "d1c2fa3a",
   "metadata": {},
   "source": [
    "using grid search to improve the accuracy"
   ]
  },
  {
   "cell_type": "code",
   "execution_count": 8,
   "id": "bb06504d",
   "metadata": {},
   "outputs": [],
   "source": [
    "from sklearn.model_selection import GridSearchCV\n",
    "param_grid=[{'n_neighbors':[4,6,8],'leaf_size':[32,34],'weights':['uniform','distance']}]\n",
    "grid_search=GridSearchCV(knn_clf,param_grid,cv=3,scoring='accuracy')"
   ]
  },
  {
   "cell_type": "code",
   "execution_count": 9,
   "id": "c985d6c0",
   "metadata": {},
   "outputs": [
    {
     "data": {
      "text/plain": [
       "GridSearchCV(cv=3, estimator=KNeighborsClassifier(),\n",
       "             param_grid=[{'leaf_size': [32, 34], 'n_neighbors': [4, 6, 8],\n",
       "                          'weights': ['uniform', 'distance']}],\n",
       "             scoring='accuracy')"
      ]
     },
     "execution_count": 9,
     "metadata": {},
     "output_type": "execute_result"
    }
   ],
   "source": [
    "grid_search.fit(X_train,y_train) "
   ]
  },
  {
   "cell_type": "code",
   "execution_count": 10,
   "id": "0cb06e45",
   "metadata": {},
   "outputs": [
    {
     "data": {
      "text/plain": [
       "{'leaf_size': 32, 'n_neighbors': 4, 'weights': 'distance'}"
      ]
     },
     "execution_count": 10,
     "metadata": {},
     "output_type": "execute_result"
    }
   ],
   "source": [
    "grid_search.best_params_"
   ]
  },
  {
   "cell_type": "code",
   "execution_count": 11,
   "id": "1b124ff6",
   "metadata": {},
   "outputs": [
    {
     "data": {
      "text/plain": [
       "0.9703500000000002"
      ]
     },
     "execution_count": 11,
     "metadata": {},
     "output_type": "execute_result"
    }
   ],
   "source": [
    "grid_search.best_score_"
   ]
  },
  {
   "cell_type": "code",
   "execution_count": 13,
   "id": "9a228cd0",
   "metadata": {},
   "outputs": [
    {
     "data": {
      "text/plain": [
       "KNeighborsClassifier(leaf_size=32, n_neighbors=4, weights='distance')"
      ]
     },
     "execution_count": 13,
     "metadata": {},
     "output_type": "execute_result"
    }
   ],
   "source": [
    "grid_search.best_estimator_"
   ]
  },
  {
   "cell_type": "code",
   "execution_count": 14,
   "id": "9e727708",
   "metadata": {},
   "outputs": [],
   "source": [
    "tuned_score=grid_search.score(X_test,y_test)"
   ]
  },
  {
   "cell_type": "code",
   "execution_count": 15,
   "id": "2d0580ef",
   "metadata": {},
   "outputs": [
    {
     "data": {
      "text/plain": [
       "0.9714"
      ]
     },
     "execution_count": 15,
     "metadata": {},
     "output_type": "execute_result"
    }
   ],
   "source": [
    "tuned_score"
   ]
  },
  {
   "cell_type": "markdown",
   "id": "ecd4fddd",
   "metadata": {},
   "source": [
    "##### goal achieved"
   ]
  },
  {
   "cell_type": "markdown",
   "id": "5b30330a",
   "metadata": {},
   "source": [
    "# Q2.\n",
    "\n",
    "Data Augmentation on mnist"
   ]
  },
  {
   "cell_type": "markdown",
   "id": "9229ef62",
   "metadata": {},
   "source": [
    "In scipy.ndimage, the shift function is used to perform geometric translations on n-dimensional arrays, including images. It allows you to shift the elements of an input array along specified axes by a given number of pixels in each dimension."
   ]
  },
  {
   "cell_type": "code",
   "execution_count": 24,
   "id": "43f564b7",
   "metadata": {},
   "outputs": [],
   "source": [
    "from scipy.ndimage import shift\n",
    "def shift_image(image,x,y):\n",
    "    image=image.reshape(28,28)\n",
    "    shift_image=shift(image,[x,y],cval=0.0,mode=\"constant\")\n",
    "    return shift_image.reshape([-1]) #flatten the image into 1D"
   ]
  },
  {
   "cell_type": "code",
   "execution_count": 25,
   "id": "f98a542d",
   "metadata": {},
   "outputs": [],
   "source": [
    "direction=((-1,0),(0,1),(1,0),(0,-1))\n",
    "X_train_augment=[image for image in X_train]\n",
    "y_train_augment=[label for label in y_train]\n",
    "\n",
    "for x,y in direction:\n",
    "    for image,label in zip(X_train,y_train):\n",
    "        X_train_augment.append(shift_image(image,x,y))\n",
    "        y_train_augment.append(label)"
   ]
  },
  {
   "cell_type": "code",
   "execution_count": 26,
   "id": "0d285674",
   "metadata": {},
   "outputs": [],
   "source": [
    "import numpy as np\n",
    "X_train_augment=np.array(X_train_augment)\n",
    "y_train_augment=np.array(y_train_augment)"
   ]
  },
  {
   "cell_type": "code",
   "execution_count": 27,
   "id": "c75315b7",
   "metadata": {},
   "outputs": [],
   "source": [
    "shuffle_idx=np.random.permutation(len(X_train_augment))\n",
    "X_train_augment=X_train_augment[shuffle_idx]\n",
    "y_train_augment=y_train_augment[shuffle_idx]"
   ]
  },
  {
   "cell_type": "code",
   "execution_count": 28,
   "id": "dc9ef733",
   "metadata": {},
   "outputs": [],
   "source": [
    "knn_clf=KNeighborsClassifier(**grid_search.best_params_)"
   ]
  },
  {
   "cell_type": "code",
   "execution_count": 30,
   "id": "5e37058f",
   "metadata": {},
   "outputs": [
    {
     "data": {
      "text/plain": [
       "((300000, 784), (300000,))"
      ]
     },
     "execution_count": 30,
     "metadata": {},
     "output_type": "execute_result"
    }
   ],
   "source": [
    "X_train_augment.shape,y_train_augment.shape"
   ]
  },
  {
   "cell_type": "code",
   "execution_count": 31,
   "id": "1c5242ed",
   "metadata": {},
   "outputs": [
    {
     "data": {
      "text/plain": [
       "KNeighborsClassifier(leaf_size=32, n_neighbors=4, weights='distance')"
      ]
     },
     "execution_count": 31,
     "metadata": {},
     "output_type": "execute_result"
    }
   ],
   "source": [
    "knn_clf.fit(X_train_augment,y_train_augment)"
   ]
  },
  {
   "cell_type": "code",
   "execution_count": 32,
   "id": "59ccb4e4",
   "metadata": {},
   "outputs": [],
   "source": [
    "augment_score=knn_clf.score(X_test,y_test)"
   ]
  },
  {
   "cell_type": "code",
   "execution_count": 33,
   "id": "7354cdee",
   "metadata": {},
   "outputs": [
    {
     "data": {
      "text/plain": [
       "0.9763"
      ]
     },
     "execution_count": 33,
     "metadata": {},
     "output_type": "execute_result"
    }
   ],
   "source": [
    "augment_score # 0.9763-0.9714=0.0049 means 0.49% accuracy boost"
   ]
  },
  {
   "cell_type": "code",
   "execution_count": 34,
   "id": "c901b4aa",
   "metadata": {},
   "outputs": [
    {
     "name": "stdout",
     "output_type": "stream",
     "text": [
      "Error rate change:-17%\n"
     ]
    }
   ],
   "source": [
    "# lets look error rate\n",
    "error_rate=(1-augment_score)/(1-tuned_score)-1\n",
    "print(f\"Error rate change:{error_rate:.0%}\")"
   ]
  },
  {
   "cell_type": "code",
   "execution_count": null,
   "id": "3627e833",
   "metadata": {},
   "outputs": [],
   "source": [
    "Error rate change is -17% which is huge"
   ]
  }
 ],
 "metadata": {
  "kernelspec": {
   "display_name": "Python 3 (ipykernel)",
   "language": "python",
   "name": "python3"
  },
  "language_info": {
   "codemirror_mode": {
    "name": "ipython",
    "version": 3
   },
   "file_extension": ".py",
   "mimetype": "text/x-python",
   "name": "python",
   "nbconvert_exporter": "python",
   "pygments_lexer": "ipython3",
   "version": "3.9.12"
  }
 },
 "nbformat": 4,
 "nbformat_minor": 5
}
